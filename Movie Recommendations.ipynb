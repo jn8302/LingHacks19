{
 "cells": [
  {
   "cell_type": "code",
   "execution_count": 79,
   "metadata": {},
   "outputs": [],
   "source": [
    "import pandas as pd\n",
    "from rake_nltk import Rake\n",
    "import numpy as np\n",
    "from sklearn.metrics.pairwise import cosine_similarity\n",
    "from sklearn.feature_extraction.text import CountVectorizer"
   ]
  },
  {
   "cell_type": "code",
   "execution_count": 80,
   "metadata": {},
   "outputs": [],
   "source": [
    "df = pd.read_csv(\"movie_metadata.csv\", encoding='utf-8')\n",
    "df = df[['movie_title','genres','director_name','actor_1_name','plot_keywords']]\n",
    "#df.head()"
   ]
  },
  {
   "cell_type": "code",
   "execution_count": 81,
   "metadata": {},
   "outputs": [],
   "source": [
    "df = df.replace(np.nan, '', regex = True)\n",
    "df['plot_keywords']= [review.replace(\"|\",\" \") for review in df['plot_keywords'].values]\n",
    "df['genres']= [review.replace(\"|\",\" \") for review in df['genres'].values]"
   ]
  },
  {
   "cell_type": "code",
   "execution_count": 83,
   "metadata": {},
   "outputs": [],
   "source": [
    "df['Key_words'] = \"\"\n",
    "df['Key_words'] = df[\"plot_keywords\"].map(str) + ' ' + df['genres'].map(str) + ' ' + df['director_name']\n",
    "#print(df['Key_words'])\n",
    "\n",
    "c = df.columns[df.dtypes == object]\n",
    "df[c] = df[c].apply(lambda x: x.str.replace(r'[^\\x00-\\x7F]+', ''))\n",
    "#df.head()"
   ]
  },
  {
   "cell_type": "code",
   "execution_count": 98,
   "metadata": {},
   "outputs": [],
   "source": [
    "count = CountVectorizer()\n",
    "count_matrix = count.fit_transform(df['Key_words'])\n",
    "cosine_sim = cosine_similarity(count_matrix, count_matrix)\n",
    "\n",
    "indices = pd.Series(df.index)\n",
    "\n",
    "def recommendations(title, cosine_sim = cosine_sim):\n",
    "    recommended_movies = []\n",
    "    idx = df[df['movie_title'] == title].index[0]\n",
    "    score_series = pd.Series(cosine_sim[idx]).sort_values(ascending = False)\n",
    "\n",
    "    top_10_indexes = list(score_series.iloc[1:11].index)\n",
    "    \n",
    "    for i in top_10_indexes:\n",
    "        recommended_movies.append(list(df.index)[i])\n",
    "        \n",
    "        \n",
    "    recommend = set(df.iloc[recommended_movies]['movie_title'])\n",
    "    if title in recommend:\n",
    "        recommend.remove(title)\n",
    "    \n",
    "    return recommend"
   ]
  },
  {
   "cell_type": "code",
   "execution_count": null,
   "metadata": {},
   "outputs": [],
   "source": []
  },
  {
   "cell_type": "code",
   "execution_count": 99,
   "metadata": {},
   "outputs": [],
   "source": [
    "def main():\n",
    "    print('Enter a movie: ',end='')\n",
    "    movie = input()\n",
    "    for item in recommendations(movie):\n",
    "        print(item)"
   ]
  },
  {
   "cell_type": "code",
   "execution_count": 100,
   "metadata": {},
   "outputs": [
    {
     "name": "stdout",
     "output_type": "stream",
     "text": [
      "Enter a movie: The Lord of the Rings: The Fellowship of the Ring\n",
      "The Lord of the Rings: The Return of the King\n",
      "The Lord of the Rings: The Two Towers\n",
      "King Kong\n",
      "The Hobbit: The Battle of the Five Armies\n",
      "The Lovely Bones\n",
      "The Hobbit: An Unexpected Journey\n",
      "Krull\n",
      "The Hobbit: The Desolation of Smaug\n"
     ]
    }
   ],
   "source": [
    "main()"
   ]
  },
  {
   "cell_type": "code",
   "execution_count": null,
   "metadata": {},
   "outputs": [],
   "source": []
  }
 ],
 "metadata": {
  "kernelspec": {
   "display_name": "Python 3",
   "language": "python",
   "name": "python3"
  },
  "language_info": {
   "codemirror_mode": {
    "name": "ipython",
    "version": 3
   },
   "file_extension": ".py",
   "mimetype": "text/x-python",
   "name": "python",
   "nbconvert_exporter": "python",
   "pygments_lexer": "ipython3",
   "version": "3.6.5"
  }
 },
 "nbformat": 4,
 "nbformat_minor": 2
}
